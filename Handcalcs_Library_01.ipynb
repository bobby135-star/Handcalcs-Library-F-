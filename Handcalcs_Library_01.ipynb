{
 "cells": [
  {
   "cell_type": "code",
   "execution_count": 3,
   "metadata": {},
   "outputs": [],
   "source": [
    "a=3\n",
    "b=5"
   ]
  },
  {
   "cell_type": "code",
   "execution_count": 4,
   "metadata": {},
   "outputs": [
    {
     "data": {
      "text/plain": [
       "3"
      ]
     },
     "execution_count": 4,
     "metadata": {},
     "output_type": "execute_result"
    }
   ],
   "source": [
    "a"
   ]
  },
  {
   "cell_type": "code",
   "execution_count": 5,
   "metadata": {},
   "outputs": [
    {
     "data": {
      "text/plain": [
       "5"
      ]
     },
     "execution_count": 5,
     "metadata": {},
     "output_type": "execute_result"
    }
   ],
   "source": [
    "b"
   ]
  },
  {
   "cell_type": "code",
   "execution_count": 6,
   "metadata": {},
   "outputs": [
    {
     "data": {
      "text/plain": [
       "8"
      ]
     },
     "execution_count": 6,
     "metadata": {},
     "output_type": "execute_result"
    }
   ],
   "source": [
    "# Addition\n",
    "a + b"
   ]
  },
  {
   "cell_type": "code",
   "execution_count": 7,
   "metadata": {},
   "outputs": [
    {
     "data": {
      "text/plain": [
       "-2"
      ]
     },
     "execution_count": 7,
     "metadata": {},
     "output_type": "execute_result"
    }
   ],
   "source": [
    "# Substraction\n",
    "a - b"
   ]
  },
  {
   "cell_type": "code",
   "execution_count": 8,
   "metadata": {},
   "outputs": [
    {
     "data": {
      "text/plain": [
       "15"
      ]
     },
     "execution_count": 8,
     "metadata": {},
     "output_type": "execute_result"
    }
   ],
   "source": [
    "# Multiplication\n",
    "a * b"
   ]
  },
  {
   "cell_type": "code",
   "execution_count": 9,
   "metadata": {},
   "outputs": [
    {
     "data": {
      "text/plain": [
       "0.6"
      ]
     },
     "execution_count": 9,
     "metadata": {},
     "output_type": "execute_result"
    }
   ],
   "source": [
    "# Division(\"True Division\")\n",
    "a/b"
   ]
  },
  {
   "cell_type": "code",
   "execution_count": 10,
   "metadata": {},
   "outputs": [
    {
     "data": {
      "text/plain": [
       "243"
      ]
     },
     "execution_count": 10,
     "metadata": {},
     "output_type": "execute_result"
    }
   ],
   "source": [
    "# Exponentiation\n",
    "a**b"
   ]
  },
  {
   "cell_type": "code",
   "execution_count": 11,
   "metadata": {},
   "outputs": [],
   "source": [
    "c=a+b"
   ]
  },
  {
   "cell_type": "code",
   "execution_count": 11,
   "metadata": {},
   "outputs": [
    {
     "data": {
      "text/plain": [
       "8"
      ]
     },
     "execution_count": 11,
     "metadata": {},
     "output_type": "execute_result"
    }
   ],
   "source": [
    "c"
   ]
  },
  {
   "cell_type": "code",
   "execution_count": 12,
   "metadata": {},
   "outputs": [
    {
     "data": {
      "text/plain": [
       "5.830951894845301"
      ]
     },
     "execution_count": 12,
     "metadata": {},
     "output_type": "execute_result"
    }
   ],
   "source": [
    "c=(a**2+b**2)**(0.5)\n",
    "c"
   ]
  },
  {
   "cell_type": "code",
   "execution_count": 15,
   "metadata": {},
   "outputs": [],
   "source": [
    "import handcalcs.render"
   ]
  },
  {
   "cell_type": "code",
   "execution_count": 16,
   "metadata": {},
   "outputs": [
    {
     "data": {
      "text/latex": [
       "\\[\n",
       "\\begin{aligned}\n",
       "c &= a \\cdot b  = 3 \\cdot 5 &= 15  \n",
       "\\end{aligned}\n",
       "\\]"
      ],
      "text/plain": [
       "<IPython.core.display.Latex object>"
      ]
     },
     "metadata": {},
     "output_type": "display_data"
    }
   ],
   "source": [
    "%%render\n",
    "c = a*b"
   ]
  },
  {
   "cell_type": "code",
   "execution_count": 17,
   "metadata": {},
   "outputs": [
    {
     "data": {
      "text/latex": [
       "\\[\n",
       "\\begin{aligned}\n",
       "c &= \\frac{ a }{ b }  = \\frac{ 3 }{ 5 } &= 0.600  \n",
       "\\end{aligned}\n",
       "\\]"
      ],
      "text/plain": [
       "<IPython.core.display.Latex object>"
      ]
     },
     "metadata": {},
     "output_type": "display_data"
    }
   ],
   "source": [
    "%%render\n",
    "c = a/b"
   ]
  },
  {
   "cell_type": "code",
   "execution_count": 19,
   "metadata": {},
   "outputs": [
    {
     "data": {
      "text/latex": [
       "\\[\n",
       "\\begin{aligned}\n",
       "c &= \\left( \\left( a \\right) ^{ 2 } + \\left( b \\right) ^{ 2 } \\right) ^{ \\left( \\frac{ 1 }{ 2 } \\right) }  = \\left( \\left( 3 \\right) ^{ 2 } + \\left( 5 \\right) ^{ 2 } \\right) ^{ \\left( \\frac{ 1 }{ 2 } \\right) } &= 5.831  \n",
       "\\end{aligned}\n",
       "\\]"
      ],
      "text/plain": [
       "<IPython.core.display.Latex object>"
      ]
     },
     "metadata": {},
     "output_type": "display_data"
    }
   ],
   "source": [
    "%%render\n",
    "c = (a**2 + b**2)**(1/2)"
   ]
  },
  {
   "cell_type": "code",
   "execution_count": 28,
   "metadata": {},
   "outputs": [
    {
     "data": {
      "text/latex": [
       "\\[\n",
       "\\begin{aligned}\n",
       "c &= \\sqrt { \\left( a \\right) ^{ 2 } + \\left( b \\right) ^{ 2 } }  = \\sqrt { \\left( 3 \\right) ^{ 2 } + \\left( 5 \\right) ^{ 2 } } &= 5.831  \n",
       "\\end{aligned}\n",
       "\\]"
      ],
      "text/plain": [
       "<IPython.core.display.Latex object>"
      ]
     },
     "metadata": {},
     "output_type": "display_data"
    }
   ],
   "source": [
    "%%render\n",
    "c=sqrt(a**2 + b**2)"
   ]
  },
  {
   "cell_type": "code",
   "execution_count": 22,
   "metadata": {},
   "outputs": [],
   "source": [
    "from math import sqrt, sin, tan"
   ]
  },
  {
   "cell_type": "code",
   "execution_count": 29,
   "metadata": {},
   "outputs": [
    {
     "data": {
      "text/latex": [
       "\\[\n",
       "\\begin{aligned}\n",
       "a &= 3 \\; \n",
       "\\\\[10pt]\n",
       "b &= 5 \\; \n",
       "\\\\[10pt]\n",
       "c &= 243 \\; \n",
       "\\\\[10pt]\n",
       "d &= 32 \\; \n",
       "\\end{aligned}\n",
       "\\]"
      ],
      "text/plain": [
       "<IPython.core.display.Latex object>"
      ]
     },
     "metadata": {},
     "output_type": "display_data"
    }
   ],
   "source": [
    "%%render\n",
    "a = 3\n",
    "b = 5\n",
    "c = 243\n",
    "d = 32 "
   ]
  },
  {
   "cell_type": "code",
   "execution_count": 30,
   "metadata": {},
   "outputs": [
    {
     "data": {
      "text/latex": [
       "\\[\n",
       "\\begin{aligned}\n",
       "a &= 3 \\; \n",
       " &b &= 5 \\; \n",
       " &c &= 243 \\; \n",
       "\\\\[10pt]\n",
       "\\end{aligned}\n",
       "\\]"
      ],
      "text/plain": [
       "<IPython.core.display.Latex object>"
      ]
     },
     "metadata": {},
     "output_type": "display_data"
    }
   ],
   "source": [
    "%%render\n",
    "# Parameters\n",
    "a\n",
    "b\n",
    "c"
   ]
  },
  {
   "cell_type": "code",
   "execution_count": 25,
   "metadata": {},
   "outputs": [
    {
     "data": {
      "text/latex": [
       "\\[\n",
       "\\begin{aligned}\n",
       "d_{a} &= \\sin \\left( \\frac{ a }{ b } \\right)  = \\sin \\left( \\frac{ 3 }{ 5 } \\right) &= 0.565  \n",
       "\\end{aligned}\n",
       "\\]"
      ],
      "text/plain": [
       "<IPython.core.display.Latex object>"
      ]
     },
     "metadata": {},
     "output_type": "display_data"
    }
   ],
   "source": [
    "%%render\n",
    "d_a = sin(a/b)"
   ]
  },
  {
   "cell_type": "code",
   "execution_count": 31,
   "metadata": {},
   "outputs": [
    {
     "data": {
      "text/latex": [
       "\\[\n",
       "\\begin{aligned}\n",
       "\\alpha &= 2 \\cdot a \\\\&= 2 \\cdot 3 \\\\&= 6 \\; \\;\\textrm{(This is an approximate scaling factor)}\\\\[10pt]\n",
       "\\\\[10pt]\n",
       "\\beta &= 3 \\cdot \\frac{ b }{ 1.5 } \\\\&= 3 \\cdot \\frac{ 5 }{ 1.5 } \\\\&= 10.000 \\; \\;\\textrm{(From another source)}\\\\[10pt]\n",
       "\\\\[10pt]\n",
       "\\zeta &= \\tan \\left( \\frac{ \\alpha }{ \\beta } \\right) + 2 \\cdot \\frac{ a }{ 3 \\cdot b + a + c } \\\\&= \\tan \\left( \\frac{ 6 }{ 10.000 } \\right) + 2 \\cdot \\frac{ 3 }{ 3 \\cdot 5 + 3 + 243 } \\\\&= 0.707 \\; \\;\\textrm{(This seems reasonable)}\\\\[10pt]\n",
       "\\end{aligned}\n",
       "\\]"
      ],
      "text/plain": [
       "<IPython.core.display.Latex object>"
      ]
     },
     "metadata": {},
     "output_type": "display_data"
    }
   ],
   "source": [
    "%%render\n",
    "# Long\n",
    "alpha = 2*a # This is an approximate scaling factor\n",
    "beta = 3*b/1.5 # From another source\n",
    "zeta = tan(alpha/beta) + 2*a/(3*b + a + c) # This seems reasonable"
   ]
  },
  {
   "cell_type": "code",
   "execution_count": 33,
   "metadata": {},
   "outputs": [
    {
     "data": {
      "text/latex": [
       "\\[\n",
       "\\begin{aligned}\n",
       "\\alpha &= 2 \\cdot a  = 2 \\cdot 3 &= 6 \\; \\;\\textrm{(This is an approximate scaling factor)}\n",
       "\\\\[10pt]\n",
       "\\beta &= 3 \\cdot \\frac{ b }{ 1.5 }  = 3 \\cdot \\frac{ 5 }{ 1.5 } &= 10.000 \\; \\;\\textrm{(From another source)}\n",
       "\\\\[10pt]\n",
       "\\zeta &= \\tan \\left( \\frac{ \\alpha }{ \\beta } \\right) + 2 \\cdot \\frac{ a }{ 3 \\cdot b + a + c }  = \\tan \\left( \\frac{ 6 }{ 10.000 } \\right) + 2 \\cdot \\frac{ 3 }{ 3 \\cdot 5 + 3 + 243 } &= 0.707 \\; \\;\\textrm{(This seems reasonable)}\n",
       "\\end{aligned}\n",
       "\\]"
      ],
      "text/plain": [
       "<IPython.core.display.Latex object>"
      ]
     },
     "metadata": {},
     "output_type": "display_data"
    }
   ],
   "source": [
    "%%render\n",
    "# Short\n",
    "alpha = 2*a # This is an approximate scaling factor\n",
    "beta = 3*b/1.5 # From another source\n",
    "zeta = tan(alpha/beta) + 2*a/(3*b + a + c) # This seems reasonable"
   ]
  },
  {
   "cell_type": "code",
   "execution_count": 34,
   "metadata": {},
   "outputs": [
    {
     "data": {
      "text/latex": [
       "\\[\n",
       "\\begin{aligned}\n",
       "\\alpha &= 2 \\cdot a \\; \\;\\textrm{(This is an approximate scaling factor)}\n",
       "\\\\[10pt]\n",
       "\\beta &= 3 \\cdot \\frac{ b }{ 1.5 } \\; \\;\\textrm{(From another source)}\n",
       "\\\\[10pt]\n",
       "\\zeta &= \\tan \\left( \\frac{ \\alpha }{ \\beta } \\right) + 2 \\cdot \\frac{ a }{ 3 \\cdot b + a + c } \\; \\;\\textrm{(This seems reasonable)}\n",
       "\\end{aligned}\n",
       "\\]"
      ],
      "text/plain": [
       "<IPython.core.display.Latex object>"
      ]
     },
     "metadata": {},
     "output_type": "display_data"
    }
   ],
   "source": [
    "%%render\n",
    "# Symbolic\n",
    "alpha = 2*a # This is an approximate scaling factor\n",
    "beta = 3*b/1.5 # From another source\n",
    "zeta = tan(alpha/beta) + 2*a/(3*b + a + c) # This seems reasonable"
   ]
  },
  {
   "cell_type": "code",
   "execution_count": 35,
   "metadata": {},
   "outputs": [
    {
     "data": {
      "text/latex": [
       "\\[\n",
       "\\begin{aligned}\n",
       "\\alpha &= 6 \\; \n",
       "\\\\[10pt]\n",
       "\\beta &= 10.000 \\; \n",
       "\\\\[10pt]\n",
       "\\zeta &= 0.707 \\; \n",
       "\\end{aligned}\n",
       "\\]"
      ],
      "text/plain": [
       "<IPython.core.display.Latex object>"
      ]
     },
     "metadata": {},
     "output_type": "display_data"
    }
   ],
   "source": [
    "%%render\n",
    "alpha\n",
    "beta\n",
    "zeta"
   ]
  },
  {
   "cell_type": "code",
   "execution_count": 58,
   "metadata": {},
   "outputs": [],
   "source": [
    "import forallpeople\n",
    "import handcalcs.render\n",
    "forallpeople.environment('structural',top_level=True)"
   ]
  },
  {
   "cell_type": "markdown",
   "metadata": {},
   "source": [
    "# Axial Resistance of Steel HSS Member\n",
    "As per CSA S16-17"
   ]
  },
  {
   "cell_type": "markdown",
   "metadata": {},
   "source": [
    "## Loads"
   ]
  },
  {
   "cell_type": "code",
   "execution_count": 60,
   "metadata": {},
   "outputs": [
    {
     "data": {
      "text/latex": [
       "\\[\n",
       "\\begin{aligned}\n",
       "C_{f} &= 275 \\cdot \\mathrm{kN}  = 275 \\cdot kN &= 275.000\\ \\mathrm{kN}  \n",
       "\\end{aligned}\n",
       "\\]"
      ],
      "text/plain": [
       "<IPython.core.display.Latex object>"
      ]
     },
     "metadata": {},
     "output_type": "display_data"
    }
   ],
   "source": [
    "%%render\n",
    "C_f = 275*kN"
   ]
  },
  {
   "cell_type": "code",
   "execution_count": 70,
   "metadata": {},
   "outputs": [
    {
     "data": {
      "text/latex": [
       "\\[\n",
       "\\begin{aligned}\n",
       "C_{f} &= 680.000\\ \\mathrm{kN} \\; \n",
       "\\end{aligned}\n",
       "\\]"
      ],
      "text/plain": [
       "<IPython.core.display.Latex object>"
      ]
     },
     "metadata": {},
     "output_type": "display_data"
    }
   ],
   "source": [
    "%%render\n",
    "C_f = (680*kN)"
   ]
  },
  {
   "cell_type": "markdown",
   "metadata": {},
   "source": [
    "## Member Geometry"
   ]
  },
  {
   "cell_type": "code",
   "execution_count": 62,
   "metadata": {},
   "outputs": [
    {
     "data": {
      "text/latex": [
       "\\[\n",
       "\\begin{aligned}\n",
       "L &= 6.500\\ \\mathrm{m} \\; \n",
       " &k &= 1 \\;\n",
       "\\end{aligned}\n",
       "\\]"
      ],
      "text/plain": [
       "<IPython.core.display.Latex object>"
      ]
     },
     "metadata": {},
     "output_type": "display_data"
    }
   ],
   "source": [
    "%%render\n",
    "# Parameters\n",
    "L = 6.5*m\n",
    "k = 1"
   ]
  },
  {
   "cell_type": "markdown",
   "metadata": {},
   "source": [
    "## Material Properties"
   ]
  },
  {
   "cell_type": "code",
   "execution_count": 63,
   "metadata": {},
   "outputs": [
    {
     "data": {
      "text/latex": [
       "\\[\n",
       "\\begin{aligned}\n",
       "\\phi_{s} &= 0.850 \\; \n",
       " &E_{mod} &= 200.000\\ \\mathrm{GPa} \\; \n",
       " &F_{y} &= 400.000\\ \\mathrm{MPa} \\; \n",
       "\\\\[10pt]\n",
       " n &= 1.340 \\;\n",
       "\\end{aligned}\n",
       "\\]"
      ],
      "text/plain": [
       "<IPython.core.display.Latex object>"
      ]
     },
     "metadata": {},
     "output_type": "display_data"
    }
   ],
   "source": [
    "%%render\n",
    "# Parameters\n",
    "phi_s = 0.85\n",
    "E_mod = (200*GPa)\n",
    "F_y = (400*MPa)\n",
    "n = 1.34"
   ]
  },
  {
   "cell_type": "markdown",
   "metadata": {},
   "source": [
    "## Proposed Section"
   ]
  },
  {
   "cell_type": "code",
   "execution_count": 64,
   "metadata": {},
   "outputs": [
    {
     "data": {
      "text/latex": [
       "\\[\n",
       "\\begin{aligned}\n",
       "\\mathrm{Name} &= \\mathrm{HSS203x203x16} \\; \n",
       "\\\\[10pt]\n",
       "A &= 10300.000\\ \\mathrm{mm}^{2} \\; \n",
       "\\\\[10pt]\n",
       "r_{y} &= 76.100\\ \\mathrm{mm} \\; \n",
       "\\end{aligned}\n",
       "\\]"
      ],
      "text/plain": [
       "<IPython.core.display.Latex object>"
      ]
     },
     "metadata": {},
     "output_type": "display_data"
    }
   ],
   "source": [
    "%%render\n",
    "Name = \"HSS203x203x16\"\n",
    "A = (10300*mm**2)\n",
    "r_y = (76.1*mm)"
   ]
  },
  {
   "cell_type": "markdown",
   "metadata": {},
   "source": [
    "## Euler Buckling Stress"
   ]
  },
  {
   "cell_type": "code",
   "execution_count": 65,
   "metadata": {},
   "outputs": [],
   "source": [
    "from math import pi,sqrt"
   ]
  },
  {
   "cell_type": "code",
   "execution_count": 66,
   "metadata": {},
   "outputs": [
    {
     "data": {
      "text/latex": [
       "\\[\n",
       "\\begin{aligned}\n",
       "F_{e} &= \\frac{ \\left( \\pi \\right) ^{ 2 } \\cdot E_{mod} }{ \\left( k \\cdot \\frac{ L }{ r_{y} } \\right) ^{ 2 } }  = \\frac{ \\left( 3.142 \\right) ^{ 2 } \\cdot 200.000\\ \\mathrm{GPa} }{ \\left( 1 \\cdot \\frac{ 6.500\\ \\mathrm{m} }{ 76.100\\ \\mathrm{mm} } \\right) ^{ 2 } } &= 270.565\\ \\mathrm{MPa}  \n",
       "\\end{aligned}\n",
       "\\]"
      ],
      "text/plain": [
       "<IPython.core.display.Latex object>"
      ]
     },
     "metadata": {},
     "output_type": "display_data"
    }
   ],
   "source": [
    "%%render\n",
    "F_e = (pi**2 * E_mod) / ((k*L/r_y)**2)"
   ]
  },
  {
   "cell_type": "markdown",
   "metadata": {},
   "source": [
    "## $\\lambda$ Factor"
   ]
  },
  {
   "cell_type": "code",
   "execution_count": 67,
   "metadata": {},
   "outputs": [
    {
     "data": {
      "text/latex": [
       "\\[\n",
       "\\begin{aligned}\n",
       "\\lambda &= \\left( \\sqrt { \\frac{ F_{y} }{ F_{e} } } \\right) ^{ \\left( 2 \\cdot n \\right) }  = \\left( \\sqrt { \\frac{ 400.000\\ \\mathrm{MPa} }{ 270.565\\ \\mathrm{MPa} } } \\right) ^{ \\left( 2 \\cdot 1.340 \\right) } &= 1.689  \n",
       "\\end{aligned}\n",
       "\\]"
      ],
      "text/plain": [
       "<IPython.core.display.Latex object>"
      ]
     },
     "metadata": {},
     "output_type": "display_data"
    }
   ],
   "source": [
    "%%render\n",
    "lamb = (sqrt(F_y / F_e)) ** (2*n)"
   ]
  },
  {
   "cell_type": "markdown",
   "metadata": {},
   "source": [
    "## Axial Resistance"
   ]
  },
  {
   "cell_type": "code",
   "execution_count": 68,
   "metadata": {},
   "outputs": [
    {
     "data": {
      "text/latex": [
       "\\[\n",
       "\\begin{aligned}\n",
       "C_{r} &= \\frac{ \\phi_{s} \\cdot A \\cdot F_{y} }{ \\left( 1 + \\lambda \\right) ^{ \\left( \\frac{ 1 }{ n } \\right) } }  = \\frac{ 0.850 \\cdot 10300.000\\ \\mathrm{mm}^{2} \\cdot 400.000\\ \\mathrm{MPa} }{ \\left( 1 + 1.689 \\right) ^{ \\left( \\frac{ 1 }{ 1.340 } \\right) } } &= 1.674\\ \\mathrm{MN}  \n",
       "\\end{aligned}\n",
       "\\]"
      ],
      "text/plain": [
       "<IPython.core.display.Latex object>"
      ]
     },
     "metadata": {},
     "output_type": "display_data"
    }
   ],
   "source": [
    "%%render\n",
    "C_r = (phi_s * A * F_y) / ((1 + lamb)**(1/n))"
   ]
  },
  {
   "cell_type": "markdown",
   "metadata": {},
   "source": [
    "## Demand Capacity Ratio"
   ]
  },
  {
   "cell_type": "code",
   "execution_count": 71,
   "metadata": {},
   "outputs": [
    {
     "data": {
      "text/latex": [
       "\\[\n",
       "\\begin{aligned}\n",
       "\\mathrm{DCR} &= \\frac{ C_{f} }{ C_{r} }  = \\frac{ 680.000\\ \\mathrm{kN} }{ 1.674\\ \\mathrm{MN} } &= 0.406  \n",
       "\\end{aligned}\n",
       "\\]"
      ],
      "text/plain": [
       "<IPython.core.display.Latex object>"
      ]
     },
     "metadata": {},
     "output_type": "display_data"
    }
   ],
   "source": [
    "%%render\n",
    "DCR = C_f / C_r"
   ]
  },
  {
   "cell_type": "markdown",
   "metadata": {},
   "source": [
    "## Handcalcs: Python calculations"
   ]
  },
  {
   "cell_type": "markdown",
   "metadata": {},
   "source": [
    "## 1. Install and Import libraries.\n",
    "# Install necessary libraries\n",
    "# !pip install handcalcs\n",
    "# !pip install forallpeople"
   ]
  },
  {
   "cell_type": "code",
   "execution_count": 1,
   "metadata": {},
   "outputs": [],
   "source": [
    "#Import handcalcs\n",
    "import handcalcs.render"
   ]
  },
  {
   "cell_type": "markdown",
   "metadata": {},
   "source": [
    "## 2. Basic Usage"
   ]
  },
  {
   "cell_type": "code",
   "execution_count": 2,
   "metadata": {},
   "outputs": [
    {
     "data": {
      "text/latex": [
       "\\[\n",
       "\\begin{aligned}\n",
       "a &= 2 \\; \n",
       "\\\\[10pt]\n",
       "b &= 3 \\; \n",
       "\\\\[10pt]\n",
       "c &= 2 \\cdot a + \\frac{ b }{ 3 }  = 2 \\cdot 2 + \\frac{ 3 }{ 3 } &= 5.000  \n",
       "\\end{aligned}\n",
       "\\]"
      ],
      "text/plain": [
       "<IPython.core.display.Latex object>"
      ]
     },
     "metadata": {},
     "output_type": "display_data"
    }
   ],
   "source": [
    "%%render\n",
    "#Basic Usage\n",
    "a = 2\n",
    "b = 3\n",
    "c = 2*a + b/3"
   ]
  },
  {
   "cell_type": "code",
   "execution_count": 3,
   "metadata": {},
   "outputs": [
    {
     "data": {
      "text/latex": [
       "\\[\n",
       "\\begin{aligned}\n",
       "a &= 3 \\; \n",
       "\\\\[10pt]\n",
       "b &= 4 \\; \n",
       "\\\\[10pt]\n",
       "c &= a \\cdot b \\cdot 2  = 3 \\cdot 4 \\cdot 2 &= 24  \n",
       "\\\\[10pt]\n",
       "c &= 24 \\; \n",
       "\\end{aligned}\n",
       "\\]"
      ],
      "text/plain": [
       "<IPython.core.display.Latex object>"
      ]
     },
     "metadata": {},
     "output_type": "display_data"
    }
   ],
   "source": [
    "%%render\n",
    "a = 3\n",
    "b = 4\n",
    "c = a*b*2\n",
    "c"
   ]
  },
  {
   "cell_type": "code",
   "execution_count": 4,
   "metadata": {},
   "outputs": [],
   "source": [
    "import handcalcs.render\n",
    "from math import sqrt, pi"
   ]
  },
  {
   "cell_type": "markdown",
   "metadata": {},
   "source": [
    "## 3. Latex Outputs"
   ]
  },
  {
   "cell_type": "code",
   "execution_count": 6,
   "metadata": {},
   "outputs": [
    {
     "name": "stdout",
     "output_type": "stream",
     "text": [
      "\\[\n",
      "\\begin{aligned}\n",
      "a &= \\frac{ 2 }{ 3 } \\cdot \\sqrt { \\pi }  = \\frac{ 2 }{ 3 } \\cdot \\sqrt { 3.142 } &= 1.182  \n",
      "\\end{aligned}\n",
      "\\]\n"
     ]
    }
   ],
   "source": [
    "%%tex\n",
    "#This will produce a LaTeX output as follows.\n",
    "a = 2 / 3 * sqrt(pi)"
   ]
  },
  {
   "cell_type": "code",
   "execution_count": 7,
   "metadata": {},
   "outputs": [],
   "source": [
    "from math import sqrt, sin, pi"
   ]
  },
  {
   "cell_type": "code",
   "execution_count": 8,
   "metadata": {},
   "outputs": [
    {
     "data": {
      "text/latex": [
       "\\[\n",
       "\\begin{aligned}\n",
       "d &= \\sqrt { a } + \\sin \\left( b \\right) + \\pi + \\sqrt { a }  = \\sqrt { 1.182 } + \\sin \\left( 4 \\right) + 3.142 + \\sqrt { 1.182 } &= 4.559 \\; \\;\\textrm{(this is d)}\n",
       "\\\\[10pt]\n",
       "e &= \\sin \\left( b \\right) + \\pi + \\sqrt { a } + \\sin \\left( b \\right) + \\pi  = \\sin \\left( 4 \\right) + 3.142 + \\sqrt { 1.182 } + \\sin \\left( 4 \\right) + 3.142 &= 5.857 \\; \\;\\textrm{(this e)}\n",
       "\\end{aligned}\n",
       "\\]"
      ],
      "text/plain": [
       "<IPython.core.display.Latex object>"
      ]
     },
     "metadata": {},
     "output_type": "display_data"
    }
   ],
   "source": [
    "%%render\n",
    "d = sqrt(a) + sin(b) + pi + sqrt(a)  # this is d\n",
    "e = sin(b) + pi + sqrt(a) + sin(b) + pi # this e"
   ]
  },
  {
   "cell_type": "markdown",
   "metadata": {},
   "source": [
    "## 4. Create Function"
   ]
  },
  {
   "cell_type": "code",
   "execution_count": 9,
   "metadata": {},
   "outputs": [],
   "source": [
    "from handcalcs.decorator import handcalc"
   ]
  },
  {
   "cell_type": "code",
   "execution_count": 10,
   "metadata": {},
   "outputs": [],
   "source": [
    "@handcalc(jupyter_display = True)\n",
    "def some_cal(a,b):\n",
    "    d = sqrt(a) + sin(b) + pi + sqrt(a)  # this is d\n",
    "    e = sin(b) + pi + sqrt(a) + sin(b) + pi # this is e\n",
    "    return locals()"
   ]
  },
  {
   "cell_type": "code",
   "execution_count": 11,
   "metadata": {},
   "outputs": [
    {
     "data": {
      "text/latex": [
       "\\[\n",
       "\\begin{aligned}\n",
       "d &= \\sqrt { a } + \\sin \\left( b \\right) + \\pi + \\sqrt { a }  = \\sqrt { 1 } + \\sin \\left( 2 \\right) + 3.142 + \\sqrt { 1 } &= 6.051 \\; \\;\\textrm{(this is d)}\n",
       "\\\\[10pt]\n",
       "e &= \\sin \\left( b \\right) + \\pi + \\sqrt { a } + \\sin \\left( b \\right) + \\pi  = \\sin \\left( 2 \\right) + 3.142 + \\sqrt { 1 } + \\sin \\left( 2 \\right) + 3.142 &= 9.102 \\; \\;\\textrm{(this is e)}\n",
       "\\end{aligned}\n",
       "\\]"
      ],
      "text/plain": [
       "<IPython.core.display.Latex object>"
      ]
     },
     "metadata": {},
     "output_type": "display_data"
    },
    {
     "data": {
      "text/plain": [
       "{'a': 1, 'b': 2, 'd': 6.050890080415475, 'e': 9.10178016083095}"
      ]
     },
     "execution_count": 11,
     "metadata": {},
     "output_type": "execute_result"
    }
   ],
   "source": [
    "some_cal(1,2)"
   ]
  },
  {
   "cell_type": "markdown",
   "metadata": {},
   "source": [
    "#Use the # Long or # Short comment tags to override the length check and display the calculation in the \"Long\" format or the \"Short\" format for all calculations in the cell. e.g"
   ]
  },
  {
   "cell_type": "code",
   "execution_count": 12,
   "metadata": {},
   "outputs": [],
   "source": [
    "import handcalcs.render\n",
    "from math import sqrt, sin, asin, pi"
   ]
  },
  {
   "cell_type": "markdown",
   "metadata": {},
   "source": [
    "## 5. Long and Short Usage"
   ]
  },
  {
   "cell_type": "code",
   "execution_count": 13,
   "metadata": {},
   "outputs": [
    {
     "data": {
      "text/latex": [
       "\\[\n",
       "\\begin{aligned}\n",
       "f &= \\frac{ d }{ a } + b  = \\frac{ 4.054 }{ 1.182 } + 4 &= 7.858 \\; \\;\\textrm{(Comment)}\n",
       "\\\\[10pt]\n",
       "g &= d \\cdot \\frac{ f }{ a }  = 4.054 \\cdot \\frac{ 7.858 }{ 1.182 } &= 30.317 \\; \\;\\textrm{(Comment)}\n",
       "\\\\[10pt]\n",
       "d &= \\sqrt { \\frac{ a }{ b } } + \\arcsin \\left( \\sin \\left( \\frac{ b }{ c } \\right) \\right) + \\left( \\frac{ a }{ b } \\right) ^{ 0.5 } + \\sqrt { \\frac{ a \\cdot b + b \\cdot c }{ \\left( b \\right) ^{ 2 } } } + \\sin \\left( \\frac{ a }{ b } \\right) \\\\&= \\sqrt { \\frac{ 1.182 }{ 4 } } + \\arcsin \\left( \\sin \\left( \\frac{ 4 }{ 24 } \\right) \\right) + \\left( \\frac{ 1.182 }{ 4 } \\right) ^{ 0.5 } + \\sqrt { \\frac{ 1.182 \\cdot 4 + 4 \\cdot 24 }{ \\left( 4 \\right) ^{ 2 } } } + \\sin \\left( \\frac{ 1.182 }{ 4 } \\right) \\\\&= 4.054 \\; \\;\\textrm{(Long)}\\\\[10pt]\n",
       "\\end{aligned}\n",
       "\\]"
      ],
      "text/plain": [
       "<IPython.core.display.Latex object>"
      ]
     },
     "metadata": {},
     "output_type": "display_data"
    }
   ],
   "source": [
    "%%render\n",
    "f= d/ a+b # Comment\n",
    "g=d*f / a # Comment\n",
    "d=sqrt(a / b) + asin(sin(b / c)) + (a/b)**(0.5) + sqrt((a*b + b*c)/(b**2)) + sin(a/b)  # Long"
   ]
  },
  {
   "cell_type": "markdown",
   "metadata": {},
   "source": [
    "## all short"
   ]
  },
  {
   "cell_type": "code",
   "execution_count": 14,
   "metadata": {},
   "outputs": [
    {
     "data": {
      "text/latex": [
       "\\[\n",
       "\\begin{aligned}\n",
       "f &= \\frac{ d }{ a } + b  = \\frac{ 4.054 }{ 1.182 } + 4 &= 7.431 \\; \\;\\textrm{(Comment)}\n",
       "\\\\[10pt]\n",
       "g &= d \\cdot \\frac{ f }{ a }  = 4.054 \\cdot \\frac{ 7.431 }{ 1.182 } &= 25.493 \\; \\;\\textrm{(Comment)}\n",
       "\\\\[10pt]\n",
       "d &= \\sqrt { \\frac{ a }{ b } } + \\arcsin \\left( \\sin \\left( \\frac{ b }{ c } \\right) \\right) + \\left( \\frac{ a }{ b } \\right) ^{ 0.5 } + \\sqrt { \\frac{ a \\cdot b + b \\cdot c }{ \\left( b \\right) ^{ 2 } } } + \\sin \\left( \\frac{ a }{ b } \\right)  = \\sqrt { \\frac{ 1.182 }{ 4 } } + \\arcsin \\left( \\sin \\left( \\frac{ 4 }{ 24 } \\right) \\right) + \\left( \\frac{ 1.182 }{ 4 } \\right) ^{ 0.5 } + \\sqrt { \\frac{ 1.182 \\cdot 4 + 4 \\cdot 24 }{ \\left( 4 \\right) ^{ 2 } } } + \\sin \\left( \\frac{ 1.182 }{ 4 } \\right) &= 4.054 \\; \\;\\textrm{(short format)}\n",
       "\\end{aligned}\n",
       "\\]"
      ],
      "text/plain": [
       "<IPython.core.display.Latex object>"
      ]
     },
     "metadata": {},
     "output_type": "display_data"
    }
   ],
   "source": [
    "%%render\n",
    "# Short\n",
    "f= d/ a+b # Comment\n",
    "g=d*f / a # Comment\n",
    "d=sqrt(a / b) + asin(sin(b / c)) + (a/b)**(0.5) + sqrt((a*b + b*c)/(b**2)) + sin(a/b)  # short format"
   ]
  },
  {
   "cell_type": "markdown",
   "metadata": {},
   "source": [
    "## all long"
   ]
  },
  {
   "cell_type": "code",
   "execution_count": 15,
   "metadata": {},
   "outputs": [
    {
     "data": {
      "text/latex": [
       "\\[\n",
       "\\begin{aligned}\n",
       "f &= \\frac{ d }{ a } + b \\\\&= \\frac{ 4.054 }{ 1.182 } + 4 \\\\&= 7.431 \\; \\;\\textrm{(Comment)}\\\\[10pt]\n",
       "\\\\[10pt]\n",
       "g &= d \\cdot \\frac{ f }{ a } \\\\&= 4.054 \\cdot \\frac{ 7.431 }{ 1.182 } \\\\&= 25.493 \\; \\;\\textrm{(Comment)}\\\\[10pt]\n",
       "\\\\[10pt]\n",
       "d &= \\sqrt { \\frac{ a }{ b } } + \\arcsin \\left( \\sin \\left( \\frac{ b }{ c } \\right) \\right) + \\left( \\frac{ a }{ b } \\right) ^{ 0.5 } + \\sqrt { \\frac{ a \\cdot b + b \\cdot c }{ \\left( b \\right) ^{ 2 } } } + \\sin \\left( \\frac{ a }{ b } \\right) \\\\&= \\sqrt { \\frac{ 1.182 }{ 4 } } + \\arcsin \\left( \\sin \\left( \\frac{ 4 }{ 24 } \\right) \\right) + \\left( \\frac{ 1.182 }{ 4 } \\right) ^{ 0.5 } + \\sqrt { \\frac{ 1.182 \\cdot 4 + 4 \\cdot 24 }{ \\left( 4 \\right) ^{ 2 } } } + \\sin \\left( \\frac{ 1.182 }{ 4 } \\right) \\\\&= 4.054 \\; \\;\\textrm{(long format)}\\\\[10pt]\n",
       "\\end{aligned}\n",
       "\\]"
      ],
      "text/plain": [
       "<IPython.core.display.Latex object>"
      ]
     },
     "metadata": {},
     "output_type": "display_data"
    }
   ],
   "source": [
    "%%render\n",
    "# Long\n",
    "f= d/ a+b # Comment\n",
    "g=d*f / a # Comment\n",
    "d=sqrt(a / b) + asin(sin(b / c)) + (a/b)**(0.5) + sqrt((a*b + b*c)/(b**2)) + sin(a/b)  # long format"
   ]
  },
  {
   "cell_type": "markdown",
   "metadata": {},
   "source": [
    "## 6. Typical rendering with numerical substitution¶"
   ]
  },
  {
   "cell_type": "code",
   "execution_count": 16,
   "metadata": {},
   "outputs": [
    {
     "data": {
      "text/latex": [
       "\\[\n",
       "\\begin{aligned}\n",
       "a &= 23 \\; \n",
       " &b &= 43 \\; \n",
       " &c &= 2 \\; \n",
       "\\\\[10pt]\n",
       "\\end{aligned}\n",
       "\\]"
      ],
      "text/plain": [
       "<IPython.core.display.Latex object>"
      ]
     },
     "metadata": {},
     "output_type": "display_data"
    }
   ],
   "source": [
    "%%render\n",
    "# Parameters\n",
    "a=23\n",
    "b=43\n",
    "c=2"
   ]
  },
  {
   "cell_type": "code",
   "execution_count": 17,
   "metadata": {},
   "outputs": [
    {
     "data": {
      "text/latex": [
       "\\[\n",
       "\\begin{aligned}\n",
       "r &= \\sqrt { \\left( a \\right) ^{ 2 } + \\left( b \\right) ^{ 2 } }  = \\sqrt { \\left( 23 \\right) ^{ 2 } + \\left( 43 \\right) ^{ 2 } } &= 48.765  \n",
       "\\\\[10pt]\n",
       "x &= \\frac{ \\left( - b \\right) + \\sqrt { \\left( b \\right) ^{ 2 } - 4 \\cdot a \\cdot c } }{ 2 \\cdot a }  = \\frac{ \\left( - 43 \\right) + \\sqrt { \\left( 43 \\right) ^{ 2 } - 4 \\cdot 23 \\cdot 2 } }{ 2 \\cdot 23 } &= -0.048  \n",
       "\\end{aligned}\n",
       "\\]"
      ],
      "text/plain": [
       "<IPython.core.display.Latex object>"
      ]
     },
     "metadata": {},
     "output_type": "display_data"
    }
   ],
   "source": [
    "%%render\n",
    "r=sqrt(a**2 +b**2)\n",
    "x=(-b + sqrt(b**2 -4*a*c))/(2*a)"
   ]
  },
  {
   "cell_type": "code",
   "execution_count": 18,
   "metadata": {},
   "outputs": [
    {
     "data": {
      "text/latex": [
       "\\[\n",
       "\\begin{aligned}\n",
       "r &= \\sqrt { \\left( a \\right) ^{ 2 } + \\left( b \\right) ^{ 2 } } \\; \n",
       "\\\\[10pt]\n",
       "x &= \\frac{ \\left( - b \\right) + \\sqrt { \\left( b \\right) ^{ 2 } - 4 \\cdot a \\cdot c } }{ 2 \\cdot a } \\; \n",
       "\\end{aligned}\n",
       "\\]"
      ],
      "text/plain": [
       "<IPython.core.display.Latex object>"
      ]
     },
     "metadata": {},
     "output_type": "display_data"
    }
   ],
   "source": [
    "%%render\n",
    "#Symbolic\n",
    "r=sqrt(a**2 +b**2)\n",
    "x=(-b + sqrt(b**2 -4*a*c))/(2*a)"
   ]
  },
  {
   "cell_type": "code",
   "execution_count": 19,
   "metadata": {},
   "outputs": [
    {
     "data": {
      "text/latex": [
       "\\[\n",
       "\\begin{aligned}\n",
       "r &= 48.765 \\; \n",
       " &x &= -0.048 \\;\n",
       "\\end{aligned}\n",
       "\\]"
      ],
      "text/plain": [
       "<IPython.core.display.Latex object>"
      ]
     },
     "metadata": {},
     "output_type": "display_data"
    }
   ],
   "source": [
    "%%render\n",
    "# Parameters\n",
    "r\n",
    "x\n"
   ]
  },
  {
   "cell_type": "markdown",
   "metadata": {},
   "source": [
    "## 7. Units Packages Compatibility"
   ]
  },
  {
   "cell_type": "code",
   "execution_count": 24,
   "metadata": {},
   "outputs": [],
   "source": [
    "import forallpeople\n",
    "import handcalcs.render\n",
    "forallpeople.environment('structural',top_level=True)"
   ]
  },
  {
   "cell_type": "markdown",
   "metadata": {},
   "source": [
    "## Under score usage"
   ]
  },
  {
   "cell_type": "code",
   "execution_count": 25,
   "metadata": {},
   "outputs": [
    {
     "data": {
      "text/latex": [
       "\\[\n",
       "\\begin{aligned}\n",
       "\n",
       "\\end{aligned}\n",
       "\\]"
      ],
      "text/plain": [
       "<IPython.core.display.Latex object>"
      ]
     },
     "metadata": {},
     "output_type": "display_data"
    }
   ],
   "source": [
    "%%render\n",
    "# Parameters\n",
    "# phi = 0.9\n",
    "# Z_x = 234e3 * mm**3\n",
    "# F_y = 400 + MPa"
   ]
  },
  {
   "cell_type": "code",
   "execution_count": 29,
   "metadata": {},
   "outputs": [],
   "source": [
    "a_x=23\n",
    "b_y_d=234\n",
    "A_box_red_small=23940"
   ]
  },
  {
   "cell_type": "markdown",
   "metadata": {},
   "source": [
    "## Greek Symbols"
   ]
  },
  {
   "cell_type": "code",
   "execution_count": 28,
   "metadata": {},
   "outputs": [
    {
     "data": {
      "text/latex": [
       "\\[\n",
       "\\begin{aligned}\n",
       "\\alpha &= 0.900 \\; \n",
       "\\\\[10pt]\n",
       "\\beta_{x} &= 23.100 \\; \n",
       "\\\\[10pt]\n",
       "\\Omega_{\\eta_{\\nu}} &= 234 \\; \n",
       "\\end{aligned}\n",
       "\\]"
      ],
      "text/plain": [
       "<IPython.core.display.Latex object>"
      ]
     },
     "metadata": {},
     "output_type": "display_data"
    }
   ],
   "source": [
    "%%render\n",
    "alpha=0.9\n",
    "beta_x=23.1\n",
    "Omega_eta_nu=234"
   ]
  },
  {
   "cell_type": "markdown",
   "metadata": {},
   "source": [
    "## Functions Built-in or custom"
   ]
  },
  {
   "cell_type": "code",
   "execution_count": 30,
   "metadata": {},
   "outputs": [
    {
     "data": {
      "text/latex": [
       "\\[\n",
       "\\begin{aligned}\n",
       "a &= 23 \\; \n",
       "\\\\[10pt]\n",
       "b &= 54 \\; \n",
       "\\\\[10pt]\n",
       "c &= 23 \\; \n",
       "\\end{aligned}\n",
       "\\]"
      ],
      "text/plain": [
       "<IPython.core.display.Latex object>"
      ]
     },
     "metadata": {},
     "output_type": "display_data"
    }
   ],
   "source": [
    "%%render\n",
    "a=23\n",
    "b=54\n",
    "c=min(a,b)"
   ]
  },
  {
   "cell_type": "code",
   "execution_count": 31,
   "metadata": {},
   "outputs": [],
   "source": [
    "def square(x):\n",
    "    return x**2"
   ]
  },
  {
   "cell_type": "code",
   "execution_count": 32,
   "metadata": {},
   "outputs": [
    {
     "data": {
      "text/latex": [
       "\\[\n",
       "\\begin{aligned}\n",
       "k_{x} &= 529 \\; \n",
       "\\end{aligned}\n",
       "\\]"
      ],
      "text/plain": [
       "<IPython.core.display.Latex object>"
      ]
     },
     "metadata": {},
     "output_type": "display_data"
    }
   ],
   "source": [
    "%%render\n",
    "k_x=square(a)"
   ]
  },
  {
   "cell_type": "markdown",
   "metadata": {},
   "source": [
    "## Rendered in-line Comments"
   ]
  },
  {
   "cell_type": "code",
   "execution_count": 33,
   "metadata": {},
   "outputs": [
    {
     "data": {
      "text/latex": [
       "\\[\n",
       "\\begin{aligned}\n",
       "\\lambda &= 0.734 \\; \\;\\textrm{(This is an approximate scaling factor)}\n",
       "\\\\[10pt]\n",
       "a &= 23.400 \\; \n",
       "\\\\[10pt]\n",
       "b &= 140.400 \\; \n",
       "\\\\[10pt]\n",
       "f &= \\lambda \\cdot a + \\frac{ b }{ a }  = 0.734 \\cdot 23.400 + \\frac{ 140.400 }{ 23.400 } &= 23.176  \n",
       "\\end{aligned}\n",
       "\\]"
      ],
      "text/plain": [
       "<IPython.core.display.Latex object>"
      ]
     },
     "metadata": {},
     "output_type": "display_data"
    }
   ],
   "source": [
    "%%render\n",
    "lamb=0.734 # This is an approximate scaling factor\n",
    "a=23.4\n",
    "b=6*a\n",
    "f= lamb * a + b/a"
   ]
  },
  {
   "cell_type": "markdown",
   "metadata": {},
   "source": [
    "## Conditional Statements"
   ]
  },
  {
   "cell_type": "code",
   "execution_count": 34,
   "metadata": {},
   "outputs": [
    {
     "data": {
      "text/latex": [
       "\\[\n",
       "\\begin{aligned}\n",
       "x_{y} &= 5 \\; \n",
       "\\end{aligned}\n",
       "\\]"
      ],
      "text/plain": [
       "<IPython.core.display.Latex object>"
      ]
     },
     "metadata": {},
     "output_type": "display_data"
    }
   ],
   "source": [
    "%%render\n",
    "x_y=5"
   ]
  },
  {
   "cell_type": "code",
   "execution_count": 35,
   "metadata": {},
   "outputs": [
    {
     "data": {
      "text/latex": [
       "\\[\n",
       "\\begin{aligned}\n",
       "&\\text{Since, } x_{y} \\lt 10 \\rightarrow \\left( 5 \\lt 10 \\right) :   \\end{aligned}\n",
       "\\]\n",
       "\\[\n",
       "\\begin{aligned}\n",
       "b &= 50 \\; \n",
       "\\end{aligned}\n",
       "\\]"
      ],
      "text/plain": [
       "<IPython.core.display.Latex object>"
      ]
     },
     "metadata": {},
     "output_type": "display_data"
    }
   ],
   "source": [
    "    %%render\n",
    "if x_y<10: b=10*x_y\n",
    "elif 10<= x_y <=60: b= x_y**2"
   ]
  },
  {
   "cell_type": "code",
   "execution_count": 36,
   "metadata": {},
   "outputs": [
    {
     "data": {
      "text/latex": [
       "\\[\n",
       "\\begin{aligned}\n",
       "x_{y} &= 50 \\; \n",
       "\\end{aligned}\n",
       "\\]"
      ],
      "text/plain": [
       "<IPython.core.display.Latex object>"
      ]
     },
     "metadata": {},
     "output_type": "display_data"
    }
   ],
   "source": [
    "%%render\n",
    "x_y=50"
   ]
  },
  {
   "cell_type": "code",
   "execution_count": 37,
   "metadata": {},
   "outputs": [
    {
     "data": {
      "text/latex": [
       "\\[\n",
       "\\begin{aligned}\n",
       "&\\text{Since, } 10 \\leq x_{y} \\leq 60 \\rightarrow \\left( 10 \\leq 50 \\leq 60 \\right) :   \\end{aligned}\n",
       "\\]\n",
       "\\[\n",
       "\\begin{aligned}\n",
       "b &= \\left( x_{y} \\right) ^{ 2 }  = \\left( 50 \\right) ^{ 2 } &= 2500  \n",
       "\\end{aligned}\n",
       "\\]"
      ],
      "text/plain": [
       "<IPython.core.display.Latex object>"
      ]
     },
     "metadata": {},
     "output_type": "display_data"
    }
   ],
   "source": [
    "%%render\n",
    "if x_y<10: b=10*x_y\n",
    "elif 10<= x_y <=60: b= x_y**2"
   ]
  },
  {
   "cell_type": "markdown",
   "metadata": {},
   "source": [
    "## Constants"
   ]
  },
  {
   "cell_type": "code",
   "execution_count": 39,
   "metadata": {},
   "outputs": [],
   "source": [
    "GREEK_LOWER = {\n",
    "    \"alpha\": \"\\\\alpha\",\n",
    "    \"beta\": \"\\\\beta\",\n",
    "    \"gamma\": \"\\\\gamma\",\n",
    "    \"delta\": \"\\\\delta\",\n",
    "    \"epsilon\": \"\\\\epsilon\",\n",
    "    \"zeta\": \"\\\\zeta\",\n",
    "    \"theta\": \"\\\\theta\",\n",
    "    \"iota\": \"\\\\iota\",\n",
    "    \"kappa\": \"\\\\kappa\",\n",
    "    \"mu\": \"\\\\mu\",\n",
    "    \"nu\": \"\\\\nu\",\n",
    "    \"xi\": \"\\\\xi\",\n",
    "    \"omicron\": \"\\\\omicron\",\n",
    "    \"pi\": \"\\\\pi\",\n",
    "    \"rho\": \"\\\\rho\",\n",
    "    \"sigma\": \"\\\\sigma\",\n",
    "    \"tau\": \"\\\\tau\",\n",
    "    \"upsilon\": \"\\\\upsilon\",\n",
    "    \"phi\": \"\\\\phi\",\n",
    "    \"chi\": \"\\\\chi\",\n",
    "    \"omega\": \"\\\\omega\",\n",
    "    \"eta\": \"\\\\eta\",\n",
    "    \"psi\": \"\\\\psi\",\n",
    "    \"lamb\": \"\\\\lambda\",\n",
    "}\n",
    "\n",
    "GREEK_UPPER = {\n",
    "    \"Alpha\": \"\\\\Alpha\",\n",
    "    \"Beta\": \"\\\\Beta\",\n",
    "    \"Gamma\": \"\\\\Gamma\",\n",
    "    \"Delta\": \"\\\\Delta\",\n",
    "    \"Epsilon\": \"\\\\Epsilon\",\n",
    "    \"Zeta\": \"\\\\Zeta\",\n",
    "    \"Theta\": \"\\\\Theta\",\n",
    "    \"Iota\": \"\\\\Iota\",\n",
    "    \"Kappa\": \"\\\\Kappa\",\n",
    "    \"Mu\": \"\\\\Mu\",\n",
    "    \"Nu\": \"\\\\Nu\",\n",
    "    \"Xi\": \"\\\\Xi\",\n",
    "    \"Omicron\": \"\\\\Omicron\",\n",
    "    \"Pi\": \"\\\\Pi\",\n",
    "    \"Rho\": \"\\\\Rho\",\n",
    "    \"Sigma\": \"\\\\Sigma\",\n",
    "    \"Tau\": \"\\\\Tau\",\n",
    "    \"Upsilon\": \"\\\\Upsilon\",\n",
    "    \"Phi\": \"\\\\Phi\",\n",
    "    \"Chi\": \"\\\\Chi\",\n",
    "    \"Omega\": \"\\\\Omega\",\n",
    "    \"Eta\": \"\\\\Eta\",\n",
    "    \"Psi\": \"\\\\Psi\",\n",
    "    \"Lamb\": \"\\\\Lambda\",\n",
    "}"
   ]
  },
  {
   "cell_type": "code",
   "execution_count": 40,
   "metadata": {},
   "outputs": [],
   "source": [
    "from math import sqrt, sin, pi"
   ]
  },
  {
   "cell_type": "code",
   "execution_count": 41,
   "metadata": {},
   "outputs": [
    {
     "data": {
      "text/latex": [
       "\\[\n",
       "\\begin{aligned}\n",
       "d &= \\sqrt { a } + \\sin \\left( b \\right) + \\pi + \\sqrt { a }  = \\sqrt { 23.400 } + \\sin \\left( 2500 \\right) + 3.142 + \\sqrt { 23.400 } &= 12.166 \\; \\;\\textrm{(this is d)}\n",
       "\\\\[10pt]\n",
       "e &= \\sin \\left( b \\right) + \\pi + \\sqrt { a } + \\sin \\left( b \\right) + \\pi \\\\&= \\sin \\left( 2500 \\right) + 3.142 + \\sqrt { 23.400 } + \\sin \\left( 2500 \\right) + 3.142 \\\\&= 9.820 \\; \\;\\textrm{(this e)}\\\\[10pt]\n",
       "\\end{aligned}\n",
       "\\]"
      ],
      "text/plain": [
       "<IPython.core.display.Latex object>"
      ]
     },
     "metadata": {},
     "output_type": "display_data"
    }
   ],
   "source": [
    "%%render\n",
    "d = sqrt(a) + sin(b) + pi + sqrt(a)  # this is d\n",
    "e = sin(b) + pi + sqrt(a) + sin(b) + pi # this e"
   ]
  },
  {
   "cell_type": "code",
   "execution_count": 42,
   "metadata": {},
   "outputs": [],
   "source": [
    "from handcalcs.decorator import handcalc\n",
    "\n",
    "@handcalc(jupyter_display = True)\n",
    "def some_cal(a,b):\n",
    "    d = sqrt(a) + sin(b) + pi + sqrt(a)  # this is d\n",
    "    e = sin(b) + pi + sqrt(a) + sin(b) + pi # this e\n",
    "    return locals()"
   ]
  },
  {
   "cell_type": "code",
   "execution_count": 43,
   "metadata": {},
   "outputs": [
    {
     "data": {
      "text/latex": [
       "\\[\n",
       "\\begin{aligned}\n",
       "d &= \\sqrt { a } + \\sin \\left( b \\right) + \\pi + \\sqrt { a }  = \\sqrt { 1 } + \\sin \\left( 2 \\right) + 3.142 + \\sqrt { 1 } &= 6.051 \\; \\;\\textrm{(this is d)}\n",
       "\\\\[10pt]\n",
       "e &= \\sin \\left( b \\right) + \\pi + \\sqrt { a } + \\sin \\left( b \\right) + \\pi  = \\sin \\left( 2 \\right) + 3.142 + \\sqrt { 1 } + \\sin \\left( 2 \\right) + 3.142 &= 9.102 \\; \\;\\textrm{(this e)}\n",
       "\\end{aligned}\n",
       "\\]"
      ],
      "text/plain": [
       "<IPython.core.display.Latex object>"
      ]
     },
     "metadata": {},
     "output_type": "display_data"
    },
    {
     "data": {
      "text/plain": [
       "{'a': 1, 'b': 2, 'd': 6.050890080415475, 'e': 9.10178016083095}"
      ]
     },
     "execution_count": 43,
     "metadata": {},
     "output_type": "execute_result"
    }
   ],
   "source": [
    "some_cal(1,2)"
   ]
  },
  {
   "cell_type": "markdown",
   "metadata": {},
   "source": [
    "## NLP_Phonetic_Algorithms_in_Python"
   ]
  },
  {
   "cell_type": "code",
   "execution_count": 60,
   "metadata": {},
   "outputs": [],
   "source": [
    "from pyphonetics import Soundex"
   ]
  },
  {
   "cell_type": "code",
   "execution_count": 61,
   "metadata": {},
   "outputs": [],
   "source": [
    "snd = Soundex()"
   ]
  },
  {
   "cell_type": "code",
   "execution_count": 62,
   "metadata": {},
   "outputs": [
    {
     "data": {
      "text/plain": [
       "'T000'"
      ]
     },
     "execution_count": 62,
     "metadata": {},
     "output_type": "execute_result"
    }
   ],
   "source": [
    "snd.phonetics(\"two\")"
   ]
  },
  {
   "cell_type": "code",
   "execution_count": 63,
   "metadata": {},
   "outputs": [
    {
     "data": {
      "text/plain": [
       "'T000'"
      ]
     },
     "execution_count": 63,
     "metadata": {},
     "output_type": "execute_result"
    }
   ],
   "source": [
    "snd.phonetics('to')"
   ]
  },
  {
   "cell_type": "code",
   "execution_count": 64,
   "metadata": {},
   "outputs": [
    {
     "data": {
      "text/plain": [
       "False"
      ]
     },
     "execution_count": 64,
     "metadata": {},
     "output_type": "execute_result"
    }
   ],
   "source": [
    "snd.sounds_like('tree','free')"
   ]
  },
  {
   "cell_type": "code",
   "execution_count": 65,
   "metadata": {},
   "outputs": [],
   "source": [
    "\n",
    "from pyphonetics import Metaphone"
   ]
  },
  {
   "cell_type": "code",
   "execution_count": 66,
   "metadata": {},
   "outputs": [],
   "source": [
    "mp = Metaphone()"
   ]
  },
  {
   "cell_type": "code",
   "execution_count": 67,
   "metadata": {},
   "outputs": [
    {
     "data": {
      "text/plain": [
       "False"
      ]
     },
     "execution_count": 67,
     "metadata": {},
     "output_type": "execute_result"
    }
   ],
   "source": [
    "mp.sounds_like('Backers street','Bakers street')"
   ]
  },
  {
   "cell_type": "code",
   "execution_count": 68,
   "metadata": {},
   "outputs": [
    {
     "data": {
      "text/plain": [
       "'BKKRSTRT'"
      ]
     },
     "execution_count": 68,
     "metadata": {},
     "output_type": "execute_result"
    }
   ],
   "source": [
    "mp.phonetics('Backers street')"
   ]
  },
  {
   "cell_type": "code",
   "execution_count": 69,
   "metadata": {},
   "outputs": [
    {
     "data": {
      "text/plain": [
       "'BKRSTRT'"
      ]
     },
     "execution_count": 69,
     "metadata": {},
     "output_type": "execute_result"
    }
   ],
   "source": [
    "mp.phonetics('Bakers street')"
   ]
  },
  {
   "cell_type": "code",
   "execution_count": 70,
   "metadata": {},
   "outputs": [],
   "source": [
    "from pyphonetics import RefinedSoundex"
   ]
  },
  {
   "cell_type": "code",
   "execution_count": 71,
   "metadata": {},
   "outputs": [],
   "source": [
    "rsnd = RefinedSoundex()"
   ]
  },
  {
   "cell_type": "code",
   "execution_count": 72,
   "metadata": {},
   "outputs": [
    {
     "data": {
      "text/plain": [
       "1"
      ]
     },
     "execution_count": 72,
     "metadata": {},
     "output_type": "execute_result"
    }
   ],
   "source": [
    "\n",
    "rsnd.distance('break','brake', metric = 'levenshtein')"
   ]
  },
  {
   "cell_type": "code",
   "execution_count": 75,
   "metadata": {},
   "outputs": [],
   "source": [
    "from pyphonetics import Soundex\n",
    "soundex = Soundex()"
   ]
  },
  {
   "cell_type": "code",
   "execution_count": 76,
   "metadata": {},
   "outputs": [
    {
     "data": {
      "text/plain": [
       "'R163'"
      ]
     },
     "execution_count": 76,
     "metadata": {},
     "output_type": "execute_result"
    }
   ],
   "source": [
    "soundex.phonetics('Rupert')"
   ]
  },
  {
   "cell_type": "code",
   "execution_count": 77,
   "metadata": {},
   "outputs": [
    {
     "data": {
      "text/plain": [
       "'R163'"
      ]
     },
     "execution_count": 77,
     "metadata": {},
     "output_type": "execute_result"
    }
   ],
   "source": [
    "soundex.phonetics('Robert')"
   ]
  },
  {
   "cell_type": "code",
   "execution_count": 78,
   "metadata": {},
   "outputs": [
    {
     "data": {
      "text/plain": [
       "True"
      ]
     },
     "execution_count": 78,
     "metadata": {},
     "output_type": "execute_result"
    }
   ],
   "source": [
    "soundex.sounds_like('Robert', 'Rupert')"
   ]
  },
  {
   "cell_type": "code",
   "execution_count": 79,
   "metadata": {},
   "outputs": [],
   "source": [
    "from pyphonetics import Metaphone\n",
    "metaphone = Metaphone()"
   ]
  },
  {
   "cell_type": "code",
   "execution_count": 80,
   "metadata": {},
   "outputs": [
    {
     "data": {
      "text/plain": [
       "'TSKRMNXN'"
      ]
     },
     "execution_count": 80,
     "metadata": {},
     "output_type": "execute_result"
    }
   ],
   "source": [
    "metaphone.phonetics('discrimination')"
   ]
  },
  {
   "cell_type": "markdown",
   "metadata": {},
   "source": [
    "# You can also use the distance(word1, word2, metric='levenshtein') method to find the distance between 2 phonetic representations."
   ]
  },
  {
   "cell_type": "code",
   "execution_count": 81,
   "metadata": {},
   "outputs": [
    {
     "data": {
      "text/plain": [
       "0"
      ]
     },
     "execution_count": 81,
     "metadata": {},
     "output_type": "execute_result"
    }
   ],
   "source": [
    "from pyphonetics import RefinedSoundex\n",
    "rs = RefinedSoundex()\n",
    "rs.distance('Rupert', 'Robert')"
   ]
  },
  {
   "cell_type": "code",
   "execution_count": 82,
   "metadata": {},
   "outputs": [
    {
     "data": {
      "text/plain": [
       "2"
      ]
     },
     "execution_count": 82,
     "metadata": {},
     "output_type": "execute_result"
    }
   ],
   "source": [
    "rs.distance('assign', 'assist', metric='hamming')"
   ]
  },
  {
   "cell_type": "markdown",
   "metadata": {},
   "source": [
    "## Learn Creating Math Equations and Symbols using Latex in Jupyter Notebook"
   ]
  },
  {
   "cell_type": "markdown",
   "metadata": {},
   "source": [
    "## you will learn the following topics：\n",
    "###  General Rule\n",
    "###  Greek Letters\n",
    "###  Accent Signs\n",
    "###  Big Symbols\n",
    "###  Relation Symbols\n",
    "###  Subscript and Superscript\n",
    "###  Fraction, Binomial, and Stacked number\n",
    "###  Matrices and Arrays\n",
    "###  Radical\n",
    "###  Sum, Limit and Integral\n",
    "###  Equation Formation\n",
    "###  Numbering Equations"
   ]
  },
  {
   "cell_type": "markdown",
   "metadata": {},
   "source": [
    "## Units and Unit Conversions with Python's SymPy"
   ]
  },
  {
   "cell_type": "code",
   "execution_count": 85,
   "metadata": {},
   "outputs": [],
   "source": [
    "import sympy.physics.units as u"
   ]
  },
  {
   "cell_type": "code",
   "execution_count": 86,
   "metadata": {},
   "outputs": [
    {
     "data": {
      "text/latex": [
       "$\\displaystyle 5 \\text{cm}$"
      ],
      "text/plain": [
       "5*centimeter"
      ]
     },
     "execution_count": 86,
     "metadata": {},
     "output_type": "execute_result"
    }
   ],
   "source": [
    "5*u.cm"
   ]
  },
  {
   "cell_type": "code",
   "execution_count": 87,
   "metadata": {},
   "outputs": [
    {
     "data": {
      "text/latex": [
       "$\\displaystyle \\text{m}$"
      ],
      "text/plain": [
       "meter"
      ]
     },
     "execution_count": 87,
     "metadata": {},
     "output_type": "execute_result"
    }
   ],
   "source": [
    "u.meter"
   ]
  },
  {
   "cell_type": "code",
   "execution_count": 88,
   "metadata": {},
   "outputs": [
    {
     "data": {
      "text/plain": [
       "['m',\n",
       " 'au',\n",
       " 'cm',\n",
       " 'dm',\n",
       " 'ft',\n",
       " 'km',\n",
       " 'ly',\n",
       " 'mi',\n",
       " 'mm',\n",
       " 'nm',\n",
       " 'pm',\n",
       " 'um',\n",
       " 'yd',\n",
       " 'nmi',\n",
       " 'feet',\n",
       " 'foot',\n",
       " 'inch',\n",
       " 'mile',\n",
       " 'yard',\n",
       " 'meter',\n",
       " 'miles',\n",
       " 'yards',\n",
       " 'inches',\n",
       " 'meters',\n",
       " 'micron',\n",
       " 'microns',\n",
       " 'decimeter',\n",
       " 'kilometer',\n",
       " 'lightyear',\n",
       " 'nanometer',\n",
       " 'picometer',\n",
       " 'centimeter',\n",
       " 'decimeters',\n",
       " 'kilometers',\n",
       " 'lightyears',\n",
       " 'micrometer',\n",
       " 'millimeter',\n",
       " 'nanometers',\n",
       " 'picometers',\n",
       " 'centimeters',\n",
       " 'micrometers',\n",
       " 'millimeters',\n",
       " 'nautical_mile',\n",
       " 'planck_length',\n",
       " 'nautical_miles',\n",
       " 'astronomical_unit',\n",
       " 'astronomical_units']"
      ]
     },
     "execution_count": 88,
     "metadata": {},
     "output_type": "execute_result"
    }
   ],
   "source": [
    "u.find_unit('length')"
   ]
  },
  {
   "cell_type": "code",
   "execution_count": 89,
   "metadata": {},
   "outputs": [
    {
     "data": {
      "text/plain": [
       "['h',\n",
       " 's',\n",
       " 'ms',\n",
       " 'ns',\n",
       " 'ps',\n",
       " 'us',\n",
       " 'day',\n",
       " 'days',\n",
       " 'hour',\n",
       " 'year',\n",
       " 'hours',\n",
       " 'years',\n",
       " 'minute',\n",
       " 'second',\n",
       " 'minutes',\n",
       " 'seconds',\n",
       " 'centimeter',\n",
       " 'nanosecond',\n",
       " 'picosecond',\n",
       " 'centimeters',\n",
       " 'common_year',\n",
       " 'julian_year',\n",
       " 'microsecond',\n",
       " 'millisecond',\n",
       " 'nanoseconds',\n",
       " 'picoseconds',\n",
       " 'planck_time',\n",
       " 'common_years',\n",
       " 'julian_years',\n",
       " 'microseconds',\n",
       " 'milliseconds',\n",
       " 'draconic_year',\n",
       " 'gaussian_year',\n",
       " 'sidereal_year',\n",
       " 'tropical_year',\n",
       " 'draconic_years',\n",
       " 'gaussian_years',\n",
       " 'sidereal_years',\n",
       " 'tropical_years',\n",
       " 'full_moon_cycle',\n",
       " 'anomalistic_year',\n",
       " 'full_moon_cycles',\n",
       " 'anomalistic_years']"
      ]
     },
     "execution_count": 89,
     "metadata": {},
     "output_type": "execute_result"
    }
   ],
   "source": [
    "u.find_unit('time')"
   ]
  },
  {
   "cell_type": "code",
   "execution_count": 90,
   "metadata": {},
   "outputs": [
    {
     "data": {
      "text/latex": [
       "$\\displaystyle \\text{c}$"
      ],
      "text/plain": [
       "speed_of_light"
      ]
     },
     "execution_count": 90,
     "metadata": {},
     "output_type": "execute_result"
    }
   ],
   "source": [
    "u.c"
   ]
  },
  {
   "cell_type": "code",
   "execution_count": 91,
   "metadata": {},
   "outputs": [
    {
     "data": {
      "text/latex": [
       "$\\displaystyle \\text{c}$"
      ],
      "text/plain": [
       "speed_of_light"
      ]
     },
     "execution_count": 91,
     "metadata": {},
     "output_type": "execute_result"
    }
   ],
   "source": [
    "u.speed_of_light"
   ]
  },
  {
   "cell_type": "code",
   "execution_count": 92,
   "metadata": {},
   "outputs": [
    {
     "data": {
      "text/plain": [
       "True"
      ]
     },
     "execution_count": 92,
     "metadata": {},
     "output_type": "execute_result"
    }
   ],
   "source": [
    "u.c == u.speed_of_light"
   ]
  },
  {
   "cell_type": "code",
   "execution_count": 93,
   "metadata": {},
   "outputs": [
    {
     "data": {
      "text/latex": [
       "$\\displaystyle 3 \\text{kg}$"
      ],
      "text/plain": [
       "3*kilogram"
      ]
     },
     "execution_count": 93,
     "metadata": {},
     "output_type": "execute_result"
    }
   ],
   "source": [
    "3 * u.kg"
   ]
  },
  {
   "cell_type": "code",
   "execution_count": 94,
   "metadata": {},
   "outputs": [],
   "source": [
    "exp = 3*u.kg"
   ]
  },
  {
   "cell_type": "code",
   "execution_count": 95,
   "metadata": {},
   "outputs": [
    {
     "data": {
      "text/latex": [
       "$\\displaystyle 3 \\text{kg}$"
      ],
      "text/plain": [
       "3*kilogram"
      ]
     },
     "execution_count": 95,
     "metadata": {},
     "output_type": "execute_result"
    }
   ],
   "source": [
    "exp"
   ]
  },
  {
   "cell_type": "code",
   "execution_count": 96,
   "metadata": {},
   "outputs": [
    {
     "data": {
      "text/latex": [
       "$\\displaystyle 6 \\text{kg}$"
      ],
      "text/plain": [
       "6*kilogram"
      ]
     },
     "execution_count": 96,
     "metadata": {},
     "output_type": "execute_result"
    }
   ],
   "source": [
    "exp * 2"
   ]
  },
  {
   "cell_type": "code",
   "execution_count": 98,
   "metadata": {},
   "outputs": [],
   "source": [
    "exp1 = 3*u.kg + 700*u.g"
   ]
  },
  {
   "cell_type": "code",
   "execution_count": 99,
   "metadata": {},
   "outputs": [
    {
     "data": {
      "text/latex": [
       "$\\displaystyle 3700 \\text{g}$"
      ],
      "text/plain": [
       "3700*gram"
      ]
     },
     "execution_count": 99,
     "metadata": {},
     "output_type": "execute_result"
    }
   ],
   "source": [
    "exp1.simplify()"
   ]
  },
  {
   "cell_type": "code",
   "execution_count": 101,
   "metadata": {},
   "outputs": [
    {
     "data": {
      "text/latex": [
       "$\\displaystyle \\frac{201168 \\text{km}}{625}$"
      ],
      "text/plain": [
       "201168*kilometer/625"
      ]
     },
     "execution_count": 101,
     "metadata": {},
     "output_type": "execute_result"
    }
   ],
   "source": [
    "u.convert_to(200*u.miles, u.km)"
   ]
  },
  {
   "cell_type": "code",
   "execution_count": 102,
   "metadata": {},
   "outputs": [
    {
     "data": {
      "text/latex": [
       "$\\displaystyle 321.8688 \\text{km}$"
      ],
      "text/plain": [
       "321.8688*kilometer"
      ]
     },
     "execution_count": 102,
     "metadata": {},
     "output_type": "execute_result"
    }
   ],
   "source": [
    "u.convert_to(200*u.miles, u.km).n()"
   ]
  },
  {
   "cell_type": "code",
   "execution_count": 103,
   "metadata": {},
   "outputs": [
    {
     "data": {
      "text/latex": [
       "$\\displaystyle 321.8688 \\text{km}$"
      ],
      "text/plain": [
       "321.8688*kilometer"
      ]
     },
     "execution_count": 103,
     "metadata": {},
     "output_type": "execute_result"
    }
   ],
   "source": [
    "200*u.miles.convert_to(u.km).n()"
   ]
  },
  {
   "cell_type": "code",
   "execution_count": 104,
   "metadata": {},
   "outputs": [
    {
     "data": {
      "text/latex": [
       "$\\displaystyle 72 \\text{hour}$"
      ],
      "text/plain": [
       "72*hour"
      ]
     },
     "execution_count": 104,
     "metadata": {},
     "output_type": "execute_result"
    }
   ],
   "source": [
    "3*u.days.convert_to(u.hours)"
   ]
  },
  {
   "cell_type": "code",
   "execution_count": null,
   "metadata": {},
   "outputs": [],
   "source": []
  }
 ],
 "metadata": {
  "kernelspec": {
   "display_name": "Python 3 (ipykernel)",
   "language": "python",
   "name": "python3"
  },
  "language_info": {
   "codemirror_mode": {
    "name": "ipython",
    "version": 3
   },
   "file_extension": ".py",
   "mimetype": "text/x-python",
   "name": "python",
   "nbconvert_exporter": "python",
   "pygments_lexer": "ipython3",
   "version": "3.10.6"
  }
 },
 "nbformat": 4,
 "nbformat_minor": 4
}
